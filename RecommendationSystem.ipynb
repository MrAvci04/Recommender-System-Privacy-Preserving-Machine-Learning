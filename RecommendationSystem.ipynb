{
  "cells": [
    {
      "cell_type": "markdown",
      "metadata": {
        "id": "96m5F8XYaE6m"
      },
      "source": [
        "# Privacy-Preserving Federated Matrix Factorization for Recommendation Systems Using Homomorphic Encryption\n",
        "\n",
        "## Usage:\n",
        "Start by uploading this notebook to Google Colab. Upload the \"data.json\" file and run all the cells. Scroll down to the last cell to start interacting with the system.\n",
        "\n",
        "To use Paillier Homomorphic encryption, change the \"ENCRYPT\" variable in the first cell to \"True\". Beware, this will drastically change the runtime of the application (We recomment keeping it at \"False\")."
      ]
    },
    {
      "cell_type": "markdown",
      "metadata": {
        "id": "J01RXvmoFVNd"
      },
      "source": [
        "## Imports"
      ]
    },
    {
      "cell_type": "code",
      "execution_count": null,
      "metadata": {
        "colab": {
          "base_uri": "https://localhost:8080/"
        },
        "id": "UrCncF9KFPKW",
        "outputId": "b4c2348a-a892-4321-a3fd-b8585190ce19"
      },
      "outputs": [],
      "source": [
        "!pip install phe\n",
        "import numpy as np\n",
        "import phe as paillier\n",
        "import json\n",
        "from time import time\n",
        "import matplotlib.pyplot as plt\n",
        "\n",
        "ENCRYPT = False"
      ]
    },
    {
      "cell_type": "markdown",
      "metadata": {
        "id": "NZ1VkZBrFbGt"
      },
      "source": [
        "## User Class\n",
        "\n",
        "Represents a user in the system with attributes such as user_id, user_profile, actual_ratings, predicted_ratings, mask, learning rate (lr), and Paillier public and private keys. It has methods to compute gradient, compute loss, update ratings, and display user information.\n"
      ]
    },
    {
      "cell_type": "code",
      "execution_count": null,
      "metadata": {
        "id": "J12j-JnAFX96"
      },
      "outputs": [],
      "source": [
        "class User:\n",
        "    def __init__(self, user_id, initial_profile, actual_ratings, mask, lr, pubkey, privkey, predicted_ratings):\n",
        "        self.user_id = user_id\n",
        "        self.user_profile = initial_profile\n",
        "        self.actual_ratings = actual_ratings  # actual ratings for each movie\n",
        "        self.predicted_ratings = predicted_ratings  # predicted ratings for each movie\n",
        "        self.mask = mask  # binary mask indicating whether the user has rated each movie\n",
        "        self.lr = lr\n",
        "        self.pubkey = pubkey\n",
        "        self.privkey = privkey\n",
        "\n",
        "    def compute_gradient(self, item_profile, encrypt=False):\n",
        "        if encrypt:\n",
        "            # array zeros with same shape as item profile\n",
        "            new_item_profile = np.zeros(item_profile.shape, dtype=np.float64)\n",
        "            # decrypt item profile\n",
        "            for i in range(len(item_profile)):\n",
        "                for j in range(len(item_profile[i])):\n",
        "                    new_item_profile[i][j] = self.privkey.decrypt(item_profile[i][j])\n",
        "\n",
        "            item_profile = new_item_profile\n",
        "\n",
        "        # Compute predicted rating for each movie\n",
        "        self.predicted_ratings = np.dot(self.user_profile, item_profile.T)\n",
        "\n",
        "        # Compute gradient based on difference between actual and predicted ratings\n",
        "        gradient = 2 * np.dot((self.predicted_ratings - self.actual_ratings) * self.mask, item_profile)\n",
        "\n",
        "        x = self.lr * gradient\n",
        "\n",
        "        # update user profile based on gradient\n",
        "        self.user_profile = self.user_profile - (self.lr * gradient)\n",
        "\n",
        "        if encrypt:\n",
        "            # encrypt gradient\n",
        "            gradient = np.array([self.pubkey.encrypt(x) for x in gradient])\n",
        "\n",
        "        return gradient, self.compute_loss(self.predicted_ratings)\n",
        "\n",
        "    def compute_loss(self, predicted_ratings):\n",
        "        return np.sum(((self.actual_ratings - predicted_ratings) * self.mask) ** 2)\n",
        "\n",
        "    def updateRating(self, movieId, rating):\n",
        "        self.actual_ratings[movieId] = rating\n",
        "        if rating == 0:\n",
        "          self.mask[movieId] = 0\n",
        "        else:\n",
        "          self.mask[movieId] = 1\n",
        "\n",
        "    def getInfo(self):\n",
        "        print(f\"User {self.user_id} info:\")\n",
        "        print(f\"actual ratings: {self.actual_ratings * self.mask}\")\n",
        "        print(f\"predicted ratings: {np.rint(self.predicted_ratings)}\")"
      ]
    },
    {
      "cell_type": "markdown",
      "metadata": {
        "id": "kBMX-uD3Ftrb"
      },
      "source": [
        "## Server Class\n",
        "\n",
        "Represents the server in the system with attributes such as item_profile, learning rate (lr), number of users, and Paillier public key. It has a method to update item profiles based on the gradient received from users."
      ]
    },
    {
      "cell_type": "code",
      "execution_count": null,
      "metadata": {
        "id": "c67c_WOAFuwb"
      },
      "outputs": [],
      "source": [
        "class Server:\n",
        "    def __init__(self, initial_item_profile, lr, num_users, pubkey):\n",
        "        self.item_profile = initial_item_profile\n",
        "        self.lr = lr\n",
        "        self.num_users = num_users\n",
        "        self.pubkey = pubkey\n",
        "\n",
        "    def update_item_profile(self, user_gradient):\n",
        "        # Update item profile based on user gradient\n",
        "        self.item_profile -= (self.lr / self.num_users) * user_gradient"
      ]
    },
    {
      "cell_type": "markdown",
      "metadata": {
        "id": "dDUfcW7FFwsO"
      },
      "source": [
        "## Update Loop\n",
        "\n",
        "This function iteratively updates the user profiles and item profiles until convergence."
      ]
    },
    {
      "cell_type": "code",
      "execution_count": null,
      "metadata": {
        "id": "Qvz2pd8nF15i"
      },
      "outputs": [],
      "source": [
        "def updateMatrices(users, server):\n",
        "    # Set convergence threshold\n",
        "    convergence_iterations_threshold = 20\n",
        "\n",
        "    iteration = 0\n",
        "\n",
        "    prev_loss = 0\n",
        "\n",
        "    local_convergence = 0\n",
        "\n",
        "    # array for storing loss for each iteration\n",
        "    lossArray = []\n",
        "\n",
        "    # Iterate over multiple rounds of gradient computation and updates\n",
        "    while True:\n",
        "        startTime = time()\n",
        "        total_loss = 0\n",
        "        for user in users:\n",
        "            # Users compute gradients for each movie\n",
        "            gradient, loss = user.compute_gradient(server.item_profile)\n",
        "            total_loss += loss\n",
        "            # Server updates item profile for the corresponding movie\n",
        "            server.update_item_profile(gradient)\n",
        "\n",
        "        # Check for convergence on loss to 3 decimal places\n",
        "        if np.abs(total_loss - prev_loss) < 0.001:\n",
        "            local_convergence += 1\n",
        "            if local_convergence > convergence_iterations_threshold:\n",
        "                print(f'Converged after {iteration} iterations and {time() - startTime} seconds')\n",
        "                break\n",
        "        else:\n",
        "            local_convergence = 0\n",
        "            prev_loss = total_loss\n",
        "\n",
        "        # print(f\"Iteration: {iteration} | loss: {total_loss} | time: {time() - startTime}\")\n",
        "        lossArray.append(total_loss)\n",
        "\n",
        "        iteration += 1\n",
        "\n",
        "    # draw loss graph\n",
        "    plt.plot(lossArray)\n",
        "    plt.xlabel(\"Iteration\")\n",
        "    plt.ylabel(\"Loss\")\n",
        "    plt.show()"
      ]
    },
    {
      "cell_type": "markdown",
      "metadata": {
        "id": "jm_kqovbGVh_"
      },
      "source": [
        "## Load Pre-Trained Data\n",
        "\n",
        "This function loads user data and item profiles from a json file. It also initializes users and server objects."
      ]
    },
    {
      "cell_type": "code",
      "execution_count": null,
      "metadata": {
        "id": "Moec0TpAGYej"
      },
      "outputs": [],
      "source": [
        "def loadData(pubkey, privkey, encrypt=False):\n",
        "    data = {}\n",
        "    with open('data.json') as f:\n",
        "        data = json.load(f)\n",
        "\n",
        "    users = []\n",
        "    for userData in data[\"users\"]:\n",
        "        user = User(userData[\"user_id\"], np.array(userData[\"initial_profile\"]), np.array(userData[\"actual_ratings\"]), np.array(userData[\"mask\"]), data[\"server\"][\"lr\"], pubkey, privkey, np.array(userData[\"predicted_ratings\"]))\n",
        "        users.append(user)\n",
        "\n",
        "    item_profile = data[\"server\"][\"item_profile\"]\n",
        "\n",
        "    if encrypt:\n",
        "        # encrypt item profile and save in np array\n",
        "        for i in range(len(item_profile)):\n",
        "            for j in range(len(item_profile[i])):\n",
        "                item_profile[i][j] = pubkey.encrypt(item_profile[i][j])\n",
        "\n",
        "    item_profile = np.array(item_profile)\n",
        "\n",
        "    server = Server(item_profile, data[\"server\"][\"lr\"], len(users), pubkey)\n",
        "\n",
        "    return users, server"
      ]
    },
    {
      "cell_type": "markdown",
      "metadata": {
        "id": "xeuccbduGe0T"
      },
      "source": [
        "## Usage directions"
      ]
    },
    {
      "cell_type": "code",
      "execution_count": null,
      "metadata": {
        "id": "STembt4oMkQB"
      },
      "outputs": [],
      "source": [
        "def getDirections():\n",
        "    return \"\"\"\n",
        "    Enter a command:\n",
        "    [1] Get users predicted ratings and actual ratings\n",
        "    [2] Update user rating for a movie\n",
        "    [3] Exit\n",
        "    \"\"\""
      ]
    },
    {
      "cell_type": "markdown",
      "metadata": {
        "id": "5jmmRJ6iMs6q"
      },
      "source": [
        "## Main Code"
      ]
    },
    {
      "cell_type": "code",
      "execution_count": null,
      "metadata": {
        "colab": {
          "base_uri": "https://localhost:8080/",
          "height": 1000
        },
        "id": "KjzELhTBMukl",
        "outputId": "9ab44ba8-d9b0-4004-8299-948fbc0fbe93"
      },
      "outputs": [],
      "source": [
        "# Initialize public and private keys for Paillier cryptosystem\n",
        "# public key is used for encryption, private key is used for decryption\n",
        "print(\"Generating public and private keys...\")\n",
        "pubkey, privkey = paillier.generate_paillier_keypair()\n",
        "\n",
        "print(\"Loading data...\")\n",
        "users, server = loadData(pubkey, privkey)\n",
        "\n",
        "# get input from user in a while loop\n",
        "while True:\n",
        "    print(getDirections())\n",
        "    command = int(input())\n",
        "    if command == 1:\n",
        "        for user in users:\n",
        "            print(\"--------------------------------------------------\")\n",
        "            user.getInfo()\n",
        "            print(\"--------------------------------------------------\")\n",
        "    elif command == 2:\n",
        "        userId = int(input(\"Enter user id: \"))\n",
        "        movieId = int(input(\"Enter movie id: \"))\n",
        "        rating = int(input(\"Enter rating [0, 10]: \"))\n",
        "        users[userId].updateRating(movieId, rating)\n",
        "        print(\"Updating user rating...\")\n",
        "        updateMatrices(users, server)\n",
        "        print(\"Done!\")\n",
        "    elif command == 3:\n",
        "        break"
      ]
    }
  ],
  "metadata": {
    "colab": {
      "provenance": []
    },
    "kernelspec": {
      "display_name": "Python 3",
      "name": "python3"
    },
    "language_info": {
      "name": "python"
    }
  },
  "nbformat": 4,
  "nbformat_minor": 0
}
